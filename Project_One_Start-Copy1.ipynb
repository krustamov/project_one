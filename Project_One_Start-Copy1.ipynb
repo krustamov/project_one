{
 "cells": [
  {
   "cell_type": "code",
   "execution_count": 32,
   "metadata": {},
   "outputs": [],
   "source": [
    "import pandas as pd\n",
    "import numpy as np\n",
    "from scipy import stats\n",
    "from pandas import DataFrame\n",
    "import seaborn\n",
    "import glob\n",
    "import os\n",
    "import urllib\n",
    "import matplotlib.pyplot as plt\n",
    "import matplotlib.dates as mdates\n",
    "import matplotlib.ticker as mticker\n",
    "from matplotlib.finance import candlestick_ohlc\n",
    "from matplotlib import style\n",
    "import datetime as dt\n",
    "from dateutil import parser\n",
    "%matplotlib inline"
   ]
  },
  {
   "cell_type": "code",
   "execution_count": 33,
   "metadata": {},
   "outputs": [
    {
     "name": "stdout",
     "output_type": "stream",
     "text": [
      "['bmh', 'classic', 'dark_background', 'fast', 'fivethirtyeight', 'ggplot', 'grayscale', 'seaborn-bright', 'seaborn-colorblind', 'seaborn-dark-palette', 'seaborn-dark', 'seaborn-darkgrid', 'seaborn-deep', 'seaborn-muted', 'seaborn-notebook', 'seaborn-paper', 'seaborn-pastel', 'seaborn-poster', 'seaborn-talk', 'seaborn-ticks', 'seaborn-white', 'seaborn-whitegrid', 'seaborn', 'Solarize_Light2', '_classic_test']\n"
     ]
    }
   ],
   "source": [
    "style.use('fivethirtyeight')\n",
    "print(plt.style.available)"
   ]
  },
  {
   "cell_type": "code",
   "execution_count": 34,
   "metadata": {},
   "outputs": [
    {
     "name": "stdout",
     "output_type": "stream",
     "text": [
      "C:\\Users\\Komron\\Anaconda3\\lib\\site-packages\\matplotlib\\pyplot.py\n"
     ]
    }
   ],
   "source": [
    "print(plt.__file__)"
   ]
  },
  {
   "cell_type": "code",
   "execution_count": 35,
   "metadata": {},
   "outputs": [
    {
     "data": {
      "text/html": [
       "<div>\n",
       "<style>\n",
       "    .dataframe thead tr:only-child th {\n",
       "        text-align: right;\n",
       "    }\n",
       "\n",
       "    .dataframe thead th {\n",
       "        text-align: left;\n",
       "    }\n",
       "\n",
       "    .dataframe tbody tr th {\n",
       "        vertical-align: top;\n",
       "    }\n",
       "</style>\n",
       "<table border=\"1\" class=\"dataframe\">\n",
       "  <thead>\n",
       "    <tr style=\"text-align: right;\">\n",
       "      <th></th>\n",
       "      <th>Date</th>\n",
       "      <th>Open</th>\n",
       "      <th>High</th>\n",
       "      <th>Low</th>\n",
       "      <th>Close</th>\n",
       "      <th>Volume</th>\n",
       "      <th>Adj Close</th>\n",
       "    </tr>\n",
       "  </thead>\n",
       "  <tbody>\n",
       "    <tr>\n",
       "      <th>0</th>\n",
       "      <td>29-Dec-17</td>\n",
       "      <td>99.400002</td>\n",
       "      <td>99.690002</td>\n",
       "      <td>98.750000</td>\n",
       "      <td>98.750000</td>\n",
       "      <td>7144300</td>\n",
       "      <td>98.750000</td>\n",
       "    </tr>\n",
       "    <tr>\n",
       "      <th>1</th>\n",
       "      <td>28-Dec-17</td>\n",
       "      <td>99.519997</td>\n",
       "      <td>99.620003</td>\n",
       "      <td>99.120003</td>\n",
       "      <td>99.400002</td>\n",
       "      <td>9763900</td>\n",
       "      <td>99.400002</td>\n",
       "    </tr>\n",
       "    <tr>\n",
       "      <th>2</th>\n",
       "      <td>27-Dec-17</td>\n",
       "      <td>99.559998</td>\n",
       "      <td>99.599998</td>\n",
       "      <td>98.830002</td>\n",
       "      <td>99.260002</td>\n",
       "      <td>5140800</td>\n",
       "      <td>99.260002</td>\n",
       "    </tr>\n",
       "    <tr>\n",
       "      <th>3</th>\n",
       "      <td>26-Dec-17</td>\n",
       "      <td>98.349998</td>\n",
       "      <td>99.440002</td>\n",
       "      <td>98.349998</td>\n",
       "      <td>99.160004</td>\n",
       "      <td>4295900</td>\n",
       "      <td>99.160004</td>\n",
       "    </tr>\n",
       "    <tr>\n",
       "      <th>4</th>\n",
       "      <td>22-Dec-17</td>\n",
       "      <td>98.290001</td>\n",
       "      <td>98.419998</td>\n",
       "      <td>97.680000</td>\n",
       "      <td>98.209999</td>\n",
       "      <td>5478700</td>\n",
       "      <td>98.209999</td>\n",
       "    </tr>\n",
       "  </tbody>\n",
       "</table>\n",
       "</div>"
      ],
      "text/plain": [
       "        Date       Open       High        Low      Close   Volume  Adj Close\n",
       "0  29-Dec-17  99.400002  99.690002  98.750000  98.750000  7144300  98.750000\n",
       "1  28-Dec-17  99.519997  99.620003  99.120003  99.400002  9763900  99.400002\n",
       "2  27-Dec-17  99.559998  99.599998  98.830002  99.260002  5140800  99.260002\n",
       "3  26-Dec-17  98.349998  99.440002  98.349998  99.160004  4295900  99.160004\n",
       "4  22-Dec-17  98.290001  98.419998  97.680000  98.209999  5478700  98.209999"
      ]
     },
     "execution_count": 35,
     "metadata": {},
     "output_type": "execute_result"
    }
   ],
   "source": [
    "path = r'C:\\Users\\Komron\\Documents\\PythonData\\project_one'\n",
    "all_files = glob.glob(os.path.join(path, '*.csv'))\n",
    "\n",
    "df_from_each_file = (pd.read_csv(f) for f in all_files)\n",
    "\n",
    "concatenated_df = pd.concat(df_from_each_file, ignore_index=True)\n",
    "concatenated_df.head()"
   ]
  },
  {
   "cell_type": "code",
   "execution_count": 36,
   "metadata": {
    "collapsed": true
   },
   "outputs": [],
   "source": [
    "concatenated_df['Date'] = pd.to_datetime(concatenated_df['Date'])\n",
    "concatenated_df = concatenated_df.sort_values(by='Date')"
   ]
  },
  {
   "cell_type": "code",
   "execution_count": 37,
   "metadata": {
    "collapsed": true
   },
   "outputs": [],
   "source": [
    "#smaller_df = concatenated_df.iloc[0:500]\n",
    "#smaller_df.head(10)"
   ]
  },
  {
   "cell_type": "code",
   "execution_count": 38,
   "metadata": {
    "collapsed": true
   },
   "outputs": [],
   "source": [
    "MA1 = 10\n",
    "MA2 = 30\n",
    "\n",
    "def moving_average(values, window):\n",
    "    weights = np.repeat(1.0, window)/window\n",
    "    smas = np.convolve(values, weights, 'valid')\n",
    "    return smas"
   ]
  },
  {
   "cell_type": "code",
   "execution_count": 39,
   "metadata": {
    "collapsed": true
   },
   "outputs": [],
   "source": [
    "def high_minus_low(highs, lows):\n",
    "    return highs-lows"
   ]
  },
  {
   "cell_type": "code",
   "execution_count": 40,
   "metadata": {
    "collapsed": true
   },
   "outputs": [],
   "source": [
    "def bytespdate2num(fmt, encoding='utf-8'):\n",
    "    strconverter = mdates.strpdate2num(fmt)\n",
    "    def bytesconverter(b):\n",
    "        s = b.decode(encoding)\n",
    "        return strconverter(s)\n",
    "    return bytesconverter"
   ]
  },
  {
   "cell_type": "code",
   "execution_count": 41,
   "metadata": {
    "collapsed": true
   },
   "outputs": [],
   "source": [
    "def graph_data(stock):\n",
    "\n",
    "    fig = plt.figure(facecolor='#f0f0f0')\n",
    "    ax1 = plt.subplot2grid((6,1), (0,0), rowspan=1, colspan=1)\n",
    "    plt.title(stock)\n",
    "    plt.ylabel('H-L')\n",
    "    \n",
    "    ax2 = plt.subplot2grid((6,1), (1,0), rowspan=4, colspan=1, sharex=ax1)\n",
    "    plt.ylabel('Price')\n",
    "    ax2v = ax2.twinx()\n",
    "    \n",
    "    ax3 = plt.subplot2grid((6,1), (5,0), rowspan=1, colspan=1, sharex=ax1)\n",
    "    plt.ylabel('MAvgs')"
   ]
  },
  {
   "cell_type": "code",
   "execution_count": 53,
   "metadata": {},
   "outputs": [
    {
     "data": {
      "text/html": [
       "<div>\n",
       "<style>\n",
       "    .dataframe thead tr:only-child th {\n",
       "        text-align: right;\n",
       "    }\n",
       "\n",
       "    .dataframe thead th {\n",
       "        text-align: left;\n",
       "    }\n",
       "\n",
       "    .dataframe tbody tr th {\n",
       "        vertical-align: top;\n",
       "    }\n",
       "</style>\n",
       "<table border=\"1\" class=\"dataframe\">\n",
       "  <thead>\n",
       "    <tr style=\"text-align: right;\">\n",
       "      <th></th>\n",
       "      <th>Date</th>\n",
       "      <th>Open</th>\n",
       "      <th>High</th>\n",
       "      <th>Low</th>\n",
       "      <th>Close</th>\n",
       "      <th>Volume</th>\n",
       "      <th>Adj Close</th>\n",
       "    </tr>\n",
       "  </thead>\n",
       "  <tbody>\n",
       "    <tr>\n",
       "      <th>3231</th>\n",
       "      <td>2005-03-02</td>\n",
       "      <td>52.040001</td>\n",
       "      <td>52.410000</td>\n",
       "      <td>51.799999</td>\n",
       "      <td>51.950001</td>\n",
       "      <td>9118200</td>\n",
       "      <td>38.893871</td>\n",
       "    </tr>\n",
       "    <tr>\n",
       "      <th>3230</th>\n",
       "      <td>2005-03-03</td>\n",
       "      <td>52.799999</td>\n",
       "      <td>53.180000</td>\n",
       "      <td>52.669998</td>\n",
       "      <td>52.860001</td>\n",
       "      <td>19475800</td>\n",
       "      <td>39.575153</td>\n",
       "    </tr>\n",
       "    <tr>\n",
       "      <th>3229</th>\n",
       "      <td>2005-03-04</td>\n",
       "      <td>53.209999</td>\n",
       "      <td>53.490002</td>\n",
       "      <td>52.950001</td>\n",
       "      <td>53.099998</td>\n",
       "      <td>11556300</td>\n",
       "      <td>39.754852</td>\n",
       "    </tr>\n",
       "    <tr>\n",
       "      <th>3228</th>\n",
       "      <td>2005-03-07</td>\n",
       "      <td>53.099998</td>\n",
       "      <td>53.360001</td>\n",
       "      <td>52.590000</td>\n",
       "      <td>52.779999</td>\n",
       "      <td>10268600</td>\n",
       "      <td>39.515274</td>\n",
       "    </tr>\n",
       "    <tr>\n",
       "      <th>3227</th>\n",
       "      <td>2005-03-08</td>\n",
       "      <td>52.599998</td>\n",
       "      <td>52.750000</td>\n",
       "      <td>52.250000</td>\n",
       "      <td>52.419998</td>\n",
       "      <td>9411100</td>\n",
       "      <td>39.245743</td>\n",
       "    </tr>\n",
       "    <tr>\n",
       "      <th>3226</th>\n",
       "      <td>2005-03-09</td>\n",
       "      <td>52.400002</td>\n",
       "      <td>52.590000</td>\n",
       "      <td>52.279999</td>\n",
       "      <td>52.450001</td>\n",
       "      <td>10108200</td>\n",
       "      <td>39.268204</td>\n",
       "    </tr>\n",
       "    <tr>\n",
       "      <th>3225</th>\n",
       "      <td>2005-03-10</td>\n",
       "      <td>52.450001</td>\n",
       "      <td>52.560001</td>\n",
       "      <td>52.070000</td>\n",
       "      <td>52.150002</td>\n",
       "      <td>8096500</td>\n",
       "      <td>39.043598</td>\n",
       "    </tr>\n",
       "    <tr>\n",
       "      <th>3224</th>\n",
       "      <td>2005-03-11</td>\n",
       "      <td>52.230000</td>\n",
       "      <td>52.240002</td>\n",
       "      <td>51.470001</td>\n",
       "      <td>51.599998</td>\n",
       "      <td>9248600</td>\n",
       "      <td>38.631828</td>\n",
       "    </tr>\n",
       "    <tr>\n",
       "      <th>3223</th>\n",
       "      <td>2005-03-14</td>\n",
       "      <td>51.779999</td>\n",
       "      <td>51.939999</td>\n",
       "      <td>51.139999</td>\n",
       "      <td>51.299999</td>\n",
       "      <td>15325500</td>\n",
       "      <td>38.407227</td>\n",
       "    </tr>\n",
       "    <tr>\n",
       "      <th>3222</th>\n",
       "      <td>2005-03-15</td>\n",
       "      <td>51.549999</td>\n",
       "      <td>51.650002</td>\n",
       "      <td>51.009998</td>\n",
       "      <td>51.029999</td>\n",
       "      <td>13994200</td>\n",
       "      <td>38.205082</td>\n",
       "    </tr>\n",
       "  </tbody>\n",
       "</table>\n",
       "</div>"
      ],
      "text/plain": [
       "           Date       Open       High        Low      Close    Volume  \\\n",
       "3231 2005-03-02  52.040001  52.410000  51.799999  51.950001   9118200   \n",
       "3230 2005-03-03  52.799999  53.180000  52.669998  52.860001  19475800   \n",
       "3229 2005-03-04  53.209999  53.490002  52.950001  53.099998  11556300   \n",
       "3228 2005-03-07  53.099998  53.360001  52.590000  52.779999  10268600   \n",
       "3227 2005-03-08  52.599998  52.750000  52.250000  52.419998   9411100   \n",
       "3226 2005-03-09  52.400002  52.590000  52.279999  52.450001  10108200   \n",
       "3225 2005-03-10  52.450001  52.560001  52.070000  52.150002   8096500   \n",
       "3224 2005-03-11  52.230000  52.240002  51.470001  51.599998   9248600   \n",
       "3223 2005-03-14  51.779999  51.939999  51.139999  51.299999  15325500   \n",
       "3222 2005-03-15  51.549999  51.650002  51.009998  51.029999  13994200   \n",
       "\n",
       "      Adj Close  \n",
       "3231  38.893871  \n",
       "3230  39.575153  \n",
       "3229  39.754852  \n",
       "3228  39.515274  \n",
       "3227  39.245743  \n",
       "3226  39.268204  \n",
       "3225  39.043598  \n",
       "3224  38.631828  \n",
       "3223  38.407227  \n",
       "3222  38.205082  "
      ]
     },
     "execution_count": 53,
     "metadata": {},
     "output_type": "execute_result"
    }
   ],
   "source": [
    "hur_kat_df = concatenated_df[(concatenated_df['Date'] > '2005-03-01') & (concatenated_df['Date'] < '2006-4-01')]\n",
    "hur_kat_df.head(10)"
   ]
  },
  {
   "cell_type": "code",
   "execution_count": 54,
   "metadata": {},
   "outputs": [],
   "source": [
    "date = hur_kat_df['Date'].tolist()\n",
    "closep = hur_kat_df['Close'].tolist()\n",
    "highp = hur_kat_df['High'].tolist()\n",
    "lowp = hur_kat_df['Low'].tolist()\n",
    "openp = hur_kat_df['Open'].tolist()\n",
    "volume = hur_kat_df['Volume'].tolist()"
   ]
  },
  {
   "cell_type": "code",
   "execution_count": 55,
   "metadata": {},
   "outputs": [],
   "source": [
    "    x = 0\n",
    "    y = len(date)\n",
    "    ohlc = []\n",
    "\n",
    "    while x < y:\n",
    "        append_me = date[x], openp[x], highp[x], lowp[x], closep[x], volume[x]\n",
    "        ohlc.append(append_me)\n",
    "        x+=1\n",
    "    \n",
    "    #months = np.arange(0,13,1)    \n",
    "    ma1 = moving_average(closep,MA1)\n",
    "    ma2 = moving_average(closep,MA2)\n",
    "    start = len(date[MA2-1:])\n",
    "    \n",
    "    h_l = list(map(high_minus_low, highp, lowp))\n",
    "        "
   ]
  },
  {
   "cell_type": "code",
   "execution_count": 56,
   "metadata": {
    "collapsed": true
   },
   "outputs": [],
   "source": [
    "#ma1 = np.insert(ma1, 0, [0,0,0,0,0,0,0,0,0], axis=0)\n",
    "short_date = date[9:]\n",
    "short_date_2 = date[29:]"
   ]
  },
  {
   "cell_type": "code",
   "execution_count": 59,
   "metadata": {
    "scrolled": true
   },
   "outputs": [
    {
     "data": {
      "text/plain": [
       "Text(0,0.5,'(Red) = 10-day & (Green) = 30-day')"
      ]
     },
     "execution_count": 59,
     "metadata": {},
     "output_type": "execute_result"
    },
    {
     "data": {
      "image/png": "[encoded data removed]",
      "text/plain": [
       "<matplotlib.figure.Figure at 0x1ab0fff8710>"
      ]
     },
     "metadata": {},
     "output_type": "display_data"
    }
   ],
   "source": [
    "plt.figure(figsize=(15,8))\n",
    "\n",
    "MA_10, = plt.plot(short_date, ma1, color=\"red\", label=\"MA_10\")\n",
    "MA_30, = plt.plot(short_date_2, ma2, color=\"green\", label=\"MA_30\")\n",
    "\n",
    "plt.title(\"Walmart Stock Analysis: Hurricane Katrina\")\n",
    "plt.xlabel(\"Date\")\n",
    "plt.ylabel(\"(Red) = 10-day & (Green) = 30-day\")\n"
   ]
  },
  {
   "cell_type": "code",
   "execution_count": null,
   "metadata": {
    "collapsed": true
   },
   "outputs": [],
   "source": []
  },
  {
   "cell_type": "code",
   "execution_count": null,
   "metadata": {
    "collapsed": true
   },
   "outputs": [],
   "source": []
  },
  {
   "cell_type": "code",
   "execution_count": null,
   "metadata": {
    "collapsed": true
   },
   "outputs": [],
   "source": []
  },
  {
   "cell_type": "code",
   "execution_count": null,
   "metadata": {
    "collapsed": true
   },
   "outputs": [],
   "source": []
  },
  {
   "cell_type": "code",
   "execution_count": null,
   "metadata": {
    "collapsed": true
   },
   "outputs": [],
   "source": []
  }
 ],
 "metadata": {
  "kernelspec": {
   "display_name": "Python 3",
   "language": "python",
   "name": "python3"
  },
  "language_info": {
   "codemirror_mode": {
    "name": "ipython",
    "version": 3
   },
   "file_extension": ".py",
   "mimetype": "text/x-python",
   "name": "python",
   "nbconvert_exporter": "python",
   "pygments_lexer": "ipython3",
   "version": "3.6.3"
  }
 },
 "nbformat": 4,
 "nbformat_minor": 2
}
